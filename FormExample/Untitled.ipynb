{
 "cells": [
  {
   "cell_type": "code",
   "execution_count": 44,
   "metadata": {},
   "outputs": [
    {
     "name": "stdout",
     "output_type": "stream",
     "text": [
      "rs8179065 374654 KIF7\n",
      "rs12899845 374654 KIF7\n",
      "rs12899845 90381 TICRR\n",
      "rs8179066 374654 KIF7\n",
      "rs80357332 672 BRCA1\n",
      "rs80356920 672 BRCA1\n"
     ]
    }
   ],
   "source": [
    "from Bio import Entrez\n",
    "Entrez.email = \"youremail@gmail.com\"\n",
    "\n",
    "snp_ids = [\"rs8179065\", \n",
    "           \"rs12899845\", \n",
    "           \"rs8179066\", \n",
    "           \"rs80357332\", \n",
    "           \"rs80356920\"]\n",
    "\n",
    "for snp_id in snp_ids:\n",
    "    record = Entrez.read(Entrez.elink(dbfrom=\"snp\", \n",
    "                                  id=snp_id.replace('rs',''), \n",
    "                                  db=\"gene\"))\n",
    "    results = record[0]['LinkSetDb'][0]['Link']\n",
    "    for result in results:\n",
    "        uid = result['Id']\n",
    "        handle = Entrez.esummary(db=\"gene\", id=uid)\n",
    "        uid_record = Entrez.read(handle)\n",
    "        handle.close()\n",
    "        uid_summary = uid_record[\"DocumentSummarySet\"]['DocumentSummary'][0]\n",
    "        gene_name = uid_summary['Name']\n",
    "\n",
    "        print(snp_id, uid, gene_name)"
   ]
  },
  {
   "cell_type": "code",
   "execution_count": null,
   "metadata": {},
   "outputs": [],
   "source": []
  },
  {
   "cell_type": "code",
   "execution_count": null,
   "metadata": {},
   "outputs": [],
   "source": []
  }
 ],
 "metadata": {
  "kernelspec": {
   "display_name": "Python 3",
   "language": "python",
   "name": "python3"
  },
  "language_info": {
   "codemirror_mode": {
    "name": "ipython",
    "version": 3
   },
   "file_extension": ".py",
   "mimetype": "text/x-python",
   "name": "python",
   "nbconvert_exporter": "python",
   "pygments_lexer": "ipython3",
   "version": "3.6.4"
  }
 },
 "nbformat": 4,
 "nbformat_minor": 2
}
